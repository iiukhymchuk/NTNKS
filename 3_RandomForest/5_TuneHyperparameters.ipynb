{
 "cells": [
  {
   "cell_type": "markdown",
   "metadata": {},
   "source": [
    "## Покращення гіперпараметрів\n",
    "\n",
    "Покарщимо гіперпараметри, щоб отримати кращий результат"
   ]
  },
  {
   "cell_type": "markdown",
   "metadata": {},
   "source": [
    "### Дані"
   ]
  },
  {
   "cell_type": "code",
   "execution_count": 1,
   "metadata": {},
   "outputs": [],
   "source": [
    "import pandas as pd\n",
    "from sklearn.ensemble import RandomForestClassifier\n",
    "from sklearn.model_selection import GridSearchCV\n",
    "\n",
    "tr_features = pd.read_csv('../train_features.csv')\n",
    "tr_labels = pd.read_csv('../train_labels.csv', header=None)"
   ]
  },
  {
   "cell_type": "markdown",
   "metadata": {},
   "source": [
    "### Знаходження оптимальних гіперпараметрів"
   ]
  },
  {
   "cell_type": "code",
   "execution_count": 3,
   "metadata": {},
   "outputs": [],
   "source": [
    "def print_results(results):\n",
    "    print('BEST PARAMS: {}\\n'.format(results.best_params_))\n",
    "\n",
    "    means = results.cv_results_['mean_test_score']\n",
    "    stds = results.cv_results_['std_test_score']\n",
    "    for mean, std, params in zip(means, stds, results.cv_results_['params']):\n",
    "        print('{} (+/-{}) for {}'.format(round(mean, 3), round(std * 2, 3), params))"
   ]
  },
  {
   "cell_type": "code",
   "execution_count": 5,
   "metadata": {},
   "outputs": [
    {
     "name": "stdout",
     "output_type": "stream",
     "text": [
      "BEST PARAMS: {'max_depth': 10, 'n_estimators': 50}\n",
      "\n",
      "0.786 (+/-0.074) for {'max_depth': 2, 'n_estimators': 5}\n",
      "0.796 (+/-0.103) for {'max_depth': 2, 'n_estimators': 50}\n",
      "0.787 (+/-0.122) for {'max_depth': 2, 'n_estimators': 100}\n",
      "0.803 (+/-0.065) for {'max_depth': 10, 'n_estimators': 5}\n",
      "0.818 (+/-0.056) for {'max_depth': 10, 'n_estimators': 50}\n",
      "0.818 (+/-0.048) for {'max_depth': 10, 'n_estimators': 100}\n",
      "0.798 (+/-0.05) for {'max_depth': 20, 'n_estimators': 5}\n",
      "0.809 (+/-0.022) for {'max_depth': 20, 'n_estimators': 50}\n",
      "0.805 (+/-0.013) for {'max_depth': 20, 'n_estimators': 100}\n",
      "0.798 (+/-0.039) for {'max_depth': None, 'n_estimators': 5}\n",
      "0.809 (+/-0.024) for {'max_depth': None, 'n_estimators': 50}\n",
      "0.809 (+/-0.022) for {'max_depth': None, 'n_estimators': 100}\n"
     ]
    }
   ],
   "source": [
    "rf = RandomForestClassifier()\n",
    "parameters = {\n",
    "    'n_estimators': [5, 50, 100], # number of decision estimators in a random forest\n",
    "    'max_depth': [2, 10, 20, None] # how deep individual decision tree is\n",
    "}\n",
    "\n",
    "cv = GridSearchCV(rf, parameters, cv=5)\n",
    "cv.fit(tr_features, tr_labels.values.ravel())\n",
    "\n",
    "print_results(cv)"
   ]
  }
 ],
 "metadata": {
  "kernelspec": {
   "display_name": "Python 3",
   "language": "python",
   "name": "python3"
  },
  "language_info": {
   "codemirror_mode": {
    "name": "ipython",
    "version": 3
   },
   "file_extension": ".py",
   "mimetype": "text/x-python",
   "name": "python",
   "nbconvert_exporter": "python",
   "pygments_lexer": "ipython3",
   "version": "3.7.6"
  }
 },
 "nbformat": 4,
 "nbformat_minor": 2
}
